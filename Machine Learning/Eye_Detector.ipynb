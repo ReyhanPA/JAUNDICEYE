{
 "cells": [
  {
   "cell_type": "markdown",
   "id": "f5c5f3ad",
   "metadata": {},
   "source": [
    "# Eye Detector Algorithm"
   ]
  },
  {
   "cell_type": "markdown",
   "id": "2a23f8fb",
   "metadata": {},
   "source": [
    "Input: An image of a face/cropped face/eye of a person\n",
    "\n",
    "Output: The zoomed images of the eyes with a shape of 150x150 px"
   ]
  },
  {
   "cell_type": "markdown",
   "id": "87245108",
   "metadata": {},
   "source": [
    "#### First, calling the needed modules"
   ]
  },
  {
   "cell_type": "code",
   "execution_count": 1,
   "id": "b1f28e31",
   "metadata": {},
   "outputs": [],
   "source": [
    "import dlib # Using pretrained models from dlib to detect the eyes\n",
    "import cv2\n",
    "import matplotlib.pyplot as plt\n",
    "import os\n",
    "import glob"
   ]
  },
  {
   "cell_type": "markdown",
   "id": "e0c3dddf",
   "metadata": {},
   "source": [
    "## Defining Functions"
   ]
  },
  {
   "cell_type": "markdown",
   "id": "4fd545c4",
   "metadata": {},
   "source": [
    "### The eye cropping function for a full face input"
   ]
  },
  {
   "cell_type": "code",
   "execution_count": 2,
   "id": "c8fa5cde",
   "metadata": {},
   "outputs": [],
   "source": [
    "def full_face_eye_cropping(img, M, N):\n",
    "    \"\"\"\n",
    "    \n",
    "    This is the function to crop and save the eye for an input of a full face\n",
    "    \n",
    "    Input:\n",
    "    img = The input image loaded with dlib\n",
    "    M, N = The landmark region of intrest ((42,46) for left eye and (36,42) for right eye)\n",
    "    \n",
    "    Output:\n",
    "    eye = The cropped image of the input where only the eye is present in the size of (150,150)\n",
    "    \n",
    "    \"\"\"\n",
    "    \n",
    "    # Defining Pre-Trained Models\n",
    "    face_detector = dlib.get_frontal_face_detector()\n",
    "    landmark_detector = dlib.shape_predictor(\"shape_predictor_68_face_landmarks.dat\")\n",
    "    \n",
    "    # Detecting the faces in the input\n",
    "    faces = face_detector(img, 1)\n",
    "    face = faces[0]\n",
    "    \n",
    "    # Detecting landmarks in the image\n",
    "    base_img = img.copy()\n",
    "    landmarks_tuple = []\n",
    "    landmarks = landmark_detector(img,face)\n",
    "\n",
    "    for i in range(0, 68):\n",
    "        x = landmarks.part(i).x\n",
    "        y = landmarks.part(i).y\n",
    "\n",
    "        landmarks_tuple.append((x, y))\n",
    "            \n",
    "        cv2.circle(base_img, (x, y), 2, (255, 255, 255), -1)\n",
    "    \n",
    "    # Creating a route between landmarks\n",
    "    routes = [i for i in range(M,N)] + [M]\n",
    "    route_coordinates = []\n",
    "    base_img = img.copy()\n",
    "\n",
    "    # Filling route_coordinates\n",
    "    for i in range(0, len(routes) - 1):\n",
    "        source_point = routes[i]\n",
    "        target_point = routes[i+1]\n",
    "    \n",
    "        source_coordinate = landmarks_tuple[source_point]\n",
    "        target_coordinate = landmarks_tuple[target_point]\n",
    "    \n",
    "        route_coordinates.append(source_coordinate)\n",
    "    \n",
    "        cv2.line(base_img, source_coordinate, target_coordinate, (255, 255, 255), 2)\n",
    "        \n",
    "    # Getting the eye bounding box using route_coordinates\n",
    "    x_coords = [coord[0] for coord in route_coordinates]\n",
    "    y_coords = [coord[1] for coord in route_coordinates]\n",
    "    x_min, x_max = min(x_coords), max(x_coords)\n",
    "    y_min, y_max = min(y_coords), max(y_coords)\n",
    "\n",
    "    # Add padding\n",
    "    padding = 10\n",
    "    x_min = max(0, x_min - padding)\n",
    "    y_min = max(0, y_min - padding)\n",
    "    x_max = min(img.shape[1], x_max + padding)\n",
    "    y_max = min(img.shape[0], y_max + padding)\n",
    "\n",
    "    # Crop and resize\n",
    "    eye_region = img[y_min:y_max, x_min:x_max]\n",
    "    eye = cv2.resize(eye_region, (150, 150))\n",
    "    \n",
    "    return eye"
   ]
  },
  {
   "cell_type": "markdown",
   "id": "04b34b7f",
   "metadata": {},
   "source": [
    "### File saving function"
   ]
  },
  {
   "cell_type": "code",
   "execution_count": 3,
   "id": "cc036ac1",
   "metadata": {},
   "outputs": [],
   "source": [
    "def save_file(img, file_name, output_directory, M):\n",
    "    \"\"\"\n",
    "    \n",
    "    This function is used to save the processed image to an output directory\n",
    "    \n",
    "    Input:\n",
    "    img = An image file loaded with dlib\n",
    "    file_name = The original file name\n",
    "    output_directory = The directory where the output image is set to be saved\n",
    "    M = The starting point of intrest landmark (42 for left eye, 36 for right eye)\n",
    "    \n",
    "    Output:\n",
    "    {file_name}_{left/right}_eye.png = A saved .png file of the original file's left or right eye\n",
    "    \n",
    "    \"\"\"\n",
    "    \n",
    "    # Seperating for different eye cases\n",
    "    if M == 42: # left eye\n",
    "        new_file_name = os.path.join(output_directory,f\"{os.path.splitext(file_name)[0]}_left_eye.png\") \n",
    "        cv2.imwrite(new_file_name, cv2.cvtColor(img, cv2.COLOR_RGB2BGR))\n",
    "    elif M == 36: # right eye\n",
    "        new_file_name = os.path.join(output_directory,f\"{os.path.splitext(file_name)[0]}_right_eye.png\") \n",
    "        cv2.imwrite(new_file_name, cv2.cvtColor(img, cv2.COLOR_RGB2BGR))\n",
    "    else: # No faces processed\n",
    "        new_file_name = os.path.join(output_directory,f\"{os.path.splitext(file_name)[0]}.png\") \n",
    "        cv2.imwrite(new_file_name, cv2.cvtColor(img, cv2.COLOR_RGB2BGR))"
   ]
  },
  {
   "cell_type": "markdown",
   "id": "258f4220",
   "metadata": {},
   "source": [
    "## The Main Function"
   ]
  },
  {
   "cell_type": "code",
   "execution_count": 6,
   "id": "33965727",
   "metadata": {},
   "outputs": [],
   "source": [
    "def cropped_eye(file_directory, file_name, output_directory):\n",
    "    \"\"\"\n",
    "    \n",
    "    This is the main function to detect and crop the input image\n",
    "    \n",
    "    Input:\n",
    "    file_directory = The directory where the file is located\n",
    "    file_name = the name of the file set to be processed in image format (.jpg, .png, and the like)\n",
    "    output_directory = The directory where the output image is saved\n",
    "    \n",
    "    Output:\n",
    "    {file_name}_left_eye.png = A .png file of the input image's left eye with a size of (150,150)\n",
    "    {file_name}_right_eye.png = A .png file of the input image's right eye with a size of (150,150)\n",
    "    \n",
    "    \"\"\"\n",
    "    \n",
    "    # Defining Pre-Trained Models\n",
    "    face_detector = dlib.get_frontal_face_detector()\n",
    "    landmark_detector = dlib.shape_predictor(\"shape_predictor_68_face_landmarks.dat\")\n",
    "    \n",
    "    # Getting the image using file_directory and file_name\n",
    "    file = file_directory + r\"\\\\\" + file_name\n",
    "    \n",
    "    # Loading the image and the faces\n",
    "    img = dlib.load_rgb_image(file)\n",
    "    faces = face_detector(img, 1)\n",
    "    \n",
    "    \"\"\"\n",
    "    Face Detection\n",
    "    \n",
    "    Deducing whether the input image has a detectable face, with a different processing needed if a face is not detected\n",
    "    \n",
    "    \"\"\"\n",
    "    if len(faces) >= 1: # This is when the algorithm detects a face in the input\n",
    "        face = faces[0]\n",
    "    \n",
    "        \"\"\"\n",
    "        Right eye extraction\n",
    "    \n",
    "        Extracting the right eye image using landmarks 36-42 and saving the file\n",
    "    \n",
    "        \"\"\"\n",
    "        # Extracting the right eye\n",
    "        right_eye = full_face_eye_cropping(img, 36, 42)\n",
    "    \n",
    "        # Saving to output_directory\n",
    "        save_file(right_eye, file_name, output_directory, 36)\n",
    "    \n",
    "        \"\"\"\n",
    "        Left eye extraction\n",
    "    \n",
    "        Extracting the left eye image using landmarks 42-46 and saving the file\n",
    "    \n",
    "        \"\"\"\n",
    "    \n",
    "        # Extracting the left eye\n",
    "        left_eye = full_face_eye_cropping(img, 42, 46)\n",
    "    \n",
    "        # Saving to output_directory\n",
    "        save_file(left_eye, file_name, output_directory, 42)\n",
    "        \n",
    "    else: # If no faces were detected in the input, only resize the input to 150x150 (WORK IN PROGRESS)\n",
    "        eye = cv2.resize(img, (150, 150)) # Resize the input\n",
    "        save_file(eye, file_name, output_directory, 0) # Save the resized file\n",
    "        "
   ]
  }
 ],
 "metadata": {
  "kernelspec": {
   "display_name": "Python 3 (ipykernel)",
   "language": "python",
   "name": "python3"
  },
  "language_info": {
   "codemirror_mode": {
    "name": "ipython",
    "version": 3
   },
   "file_extension": ".py",
   "mimetype": "text/x-python",
   "name": "python",
   "nbconvert_exporter": "python",
   "pygments_lexer": "ipython3",
   "version": "3.11.7"
  }
 },
 "nbformat": 4,
 "nbformat_minor": 5
}
